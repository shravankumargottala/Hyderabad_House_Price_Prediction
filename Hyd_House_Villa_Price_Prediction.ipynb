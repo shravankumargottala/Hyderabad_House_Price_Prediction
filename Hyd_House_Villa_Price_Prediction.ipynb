{
 "cells": [
  {
   "cell_type": "code",
   "execution_count": 28,
   "metadata": {},
   "outputs": [],
   "source": [
    "import pandas as pd\n",
    "import numpy as np\n",
    "import matplotlib.pyplot as plt\n",
    "import seaborn as sns \n",
    "from scipy.stats import norm\n",
    "from sklearn.ensemble import RandomForestRegressor"
   ]
  },
  {
   "cell_type": "code",
   "execution_count": 55,
   "metadata": {},
   "outputs": [],
   "source": [
    "df = pd.read_csv(\"Hyd_House_Vill_Price.csv\")"
   ]
  },
  {
   "cell_type": "code",
   "execution_count": 56,
   "metadata": {},
   "outputs": [
    {
     "name": "stdout",
     "output_type": "stream",
     "text": [
      "<class 'pandas.core.frame.DataFrame'>\n",
      "RangeIndex: 517 entries, 0 to 516\n",
      "Data columns (total 10 columns):\n",
      "Bedrooms            517 non-null int64\n",
      "Bathrooms           517 non-null int64\n",
      "Balconies           517 non-null int64\n",
      "Pujaz_Rooms         517 non-null int64\n",
      "Super_area          517 non-null int64\n",
      "Carpet_area         517 non-null int64\n",
      "Furnished_status    517 non-null object\n",
      "Facing              517 non-null object\n",
      "Address             517 non-null object\n",
      "Price               517 non-null float64\n",
      "dtypes: float64(1), int64(6), object(3)\n",
      "memory usage: 40.5+ KB\n"
     ]
    }
   ],
   "source": [
    "df.info()"
   ]
  },
  {
   "cell_type": "code",
   "execution_count": 57,
   "metadata": {},
   "outputs": [],
   "source": [
    "house_furn_stat_dict = {}\n",
    "Furn_Uniq = df['Furnished_status'].unique()\n",
    "for j in range(len(Furn_Uniq)):\n",
    "    House_Furn_stat_dict[Furn_Uniq[j]] = j"
   ]
  },
  {
   "cell_type": "code",
   "execution_count": 58,
   "metadata": {},
   "outputs": [],
   "source": [
    "house_fac_dict = {}\n",
    "Fac_Uniq = df['Facing'].unique()\n",
    "for k in range(len(Fac_Uniq)):\n",
    "    house_fac_dict[Fac_Uniq[k]] = k"
   ]
  },
  {
   "cell_type": "code",
   "execution_count": 59,
   "metadata": {},
   "outputs": [],
   "source": [
    "house_addr_dict = {}\n",
    "addr_Uniq = df['Address'].unique()\n",
    "for l in range(len(addr_Uniq)):\n",
    "    house_addr_dict[addr_Uniq[l]] = l"
   ]
  },
  {
   "cell_type": "code",
   "execution_count": 60,
   "metadata": {},
   "outputs": [],
   "source": [
    "df['Furnished_status'] = df['Furnished_status'].map(house_furn_stat_dict)\n",
    "df['Facing'] = df['Facing'].map(house_fac_dict)\n",
    "df['Address'] = df['Address'].map(house_addr_dict)"
   ]
  },
  {
   "cell_type": "code",
   "execution_count": 61,
   "metadata": {},
   "outputs": [
    {
     "name": "stdout",
     "output_type": "stream",
     "text": [
      "<class 'pandas.core.frame.DataFrame'>\n",
      "RangeIndex: 517 entries, 0 to 516\n",
      "Data columns (total 10 columns):\n",
      "Bedrooms            517 non-null int64\n",
      "Bathrooms           517 non-null int64\n",
      "Balconies           517 non-null int64\n",
      "Pujaz_Rooms         517 non-null int64\n",
      "Super_area          517 non-null int64\n",
      "Carpet_area         517 non-null int64\n",
      "Furnished_status    517 non-null int64\n",
      "Facing              517 non-null int64\n",
      "Address             517 non-null int64\n",
      "Price               517 non-null float64\n",
      "dtypes: float64(1), int64(9)\n",
      "memory usage: 40.5 KB\n"
     ]
    }
   ],
   "source": [
    "df.info()"
   ]
  },
  {
   "cell_type": "code",
   "execution_count": 62,
   "metadata": {},
   "outputs": [
    {
     "data": {
      "text/html": [
       "<div>\n",
       "<style scoped>\n",
       "    .dataframe tbody tr th:only-of-type {\n",
       "        vertical-align: middle;\n",
       "    }\n",
       "\n",
       "    .dataframe tbody tr th {\n",
       "        vertical-align: top;\n",
       "    }\n",
       "\n",
       "    .dataframe thead th {\n",
       "        text-align: right;\n",
       "    }\n",
       "</style>\n",
       "<table border=\"1\" class=\"dataframe\">\n",
       "  <thead>\n",
       "    <tr style=\"text-align: right;\">\n",
       "      <th></th>\n",
       "      <th>Bedrooms</th>\n",
       "      <th>Bathrooms</th>\n",
       "      <th>Balconies</th>\n",
       "      <th>Pujaz_Rooms</th>\n",
       "      <th>Super_area</th>\n",
       "      <th>Carpet_area</th>\n",
       "      <th>Furnished_status</th>\n",
       "      <th>Facing</th>\n",
       "      <th>Address</th>\n",
       "      <th>Price</th>\n",
       "    </tr>\n",
       "  </thead>\n",
       "  <tbody>\n",
       "    <tr>\n",
       "      <th>0</th>\n",
       "      <td>3</td>\n",
       "      <td>3</td>\n",
       "      <td>0</td>\n",
       "      <td>1</td>\n",
       "      <td>990</td>\n",
       "      <td>850</td>\n",
       "      <td>0</td>\n",
       "      <td>0</td>\n",
       "      <td>0</td>\n",
       "      <td>55.0</td>\n",
       "    </tr>\n",
       "    <tr>\n",
       "      <th>1</th>\n",
       "      <td>3</td>\n",
       "      <td>2</td>\n",
       "      <td>0</td>\n",
       "      <td>0</td>\n",
       "      <td>873</td>\n",
       "      <td>810</td>\n",
       "      <td>0</td>\n",
       "      <td>1</td>\n",
       "      <td>1</td>\n",
       "      <td>65.0</td>\n",
       "    </tr>\n",
       "    <tr>\n",
       "      <th>2</th>\n",
       "      <td>3</td>\n",
       "      <td>2</td>\n",
       "      <td>0</td>\n",
       "      <td>0</td>\n",
       "      <td>828</td>\n",
       "      <td>774</td>\n",
       "      <td>1</td>\n",
       "      <td>2</td>\n",
       "      <td>2</td>\n",
       "      <td>65.0</td>\n",
       "    </tr>\n",
       "    <tr>\n",
       "      <th>3</th>\n",
       "      <td>3</td>\n",
       "      <td>2</td>\n",
       "      <td>0</td>\n",
       "      <td>1</td>\n",
       "      <td>900</td>\n",
       "      <td>800</td>\n",
       "      <td>1</td>\n",
       "      <td>3</td>\n",
       "      <td>3</td>\n",
       "      <td>35.0</td>\n",
       "    </tr>\n",
       "    <tr>\n",
       "      <th>4</th>\n",
       "      <td>3</td>\n",
       "      <td>3</td>\n",
       "      <td>0</td>\n",
       "      <td>0</td>\n",
       "      <td>900</td>\n",
       "      <td>800</td>\n",
       "      <td>0</td>\n",
       "      <td>2</td>\n",
       "      <td>4</td>\n",
       "      <td>35.0</td>\n",
       "    </tr>\n",
       "  </tbody>\n",
       "</table>\n",
       "</div>"
      ],
      "text/plain": [
       "   Bedrooms  Bathrooms  Balconies  Pujaz_Rooms  Super_area  Carpet_area  \\\n",
       "0         3          3          0            1         990          850   \n",
       "1         3          2          0            0         873          810   \n",
       "2         3          2          0            0         828          774   \n",
       "3         3          2          0            1         900          800   \n",
       "4         3          3          0            0         900          800   \n",
       "\n",
       "   Furnished_status  Facing  Address  Price  \n",
       "0                 0       0        0   55.0  \n",
       "1                 0       1        1   65.0  \n",
       "2                 1       2        2   65.0  \n",
       "3                 1       3        3   35.0  \n",
       "4                 0       2        4   35.0  "
      ]
     },
     "execution_count": 62,
     "metadata": {},
     "output_type": "execute_result"
    }
   ],
   "source": [
    "df.head()"
   ]
  },
  {
   "cell_type": "code",
   "execution_count": 63,
   "metadata": {},
   "outputs": [
    {
     "data": {
      "text/html": [
       "<div>\n",
       "<style scoped>\n",
       "    .dataframe tbody tr th:only-of-type {\n",
       "        vertical-align: middle;\n",
       "    }\n",
       "\n",
       "    .dataframe tbody tr th {\n",
       "        vertical-align: top;\n",
       "    }\n",
       "\n",
       "    .dataframe thead th {\n",
       "        text-align: right;\n",
       "    }\n",
       "</style>\n",
       "<table border=\"1\" class=\"dataframe\">\n",
       "  <thead>\n",
       "    <tr style=\"text-align: right;\">\n",
       "      <th></th>\n",
       "      <th>Bedrooms</th>\n",
       "      <th>Bathrooms</th>\n",
       "      <th>Balconies</th>\n",
       "      <th>Pujaz_Rooms</th>\n",
       "      <th>Super_area</th>\n",
       "      <th>Carpet_area</th>\n",
       "      <th>Furnished_status</th>\n",
       "      <th>Facing</th>\n",
       "      <th>Address</th>\n",
       "      <th>Price</th>\n",
       "    </tr>\n",
       "  </thead>\n",
       "  <tbody>\n",
       "    <tr>\n",
       "      <th>Bedrooms</th>\n",
       "      <td>1.000000</td>\n",
       "      <td>0.467314</td>\n",
       "      <td>0.268741</td>\n",
       "      <td>0.093580</td>\n",
       "      <td>0.420161</td>\n",
       "      <td>0.320535</td>\n",
       "      <td>0.157263</td>\n",
       "      <td>-0.062045</td>\n",
       "      <td>-0.370872</td>\n",
       "      <td>0.147254</td>\n",
       "    </tr>\n",
       "    <tr>\n",
       "      <th>Bathrooms</th>\n",
       "      <td>0.467314</td>\n",
       "      <td>1.000000</td>\n",
       "      <td>0.369637</td>\n",
       "      <td>0.352515</td>\n",
       "      <td>0.503606</td>\n",
       "      <td>0.362574</td>\n",
       "      <td>0.205560</td>\n",
       "      <td>-0.117205</td>\n",
       "      <td>-0.358502</td>\n",
       "      <td>0.348298</td>\n",
       "    </tr>\n",
       "    <tr>\n",
       "      <th>Balconies</th>\n",
       "      <td>0.268741</td>\n",
       "      <td>0.369637</td>\n",
       "      <td>1.000000</td>\n",
       "      <td>0.128557</td>\n",
       "      <td>0.271345</td>\n",
       "      <td>0.226158</td>\n",
       "      <td>0.307178</td>\n",
       "      <td>-0.090152</td>\n",
       "      <td>-0.206992</td>\n",
       "      <td>0.013613</td>\n",
       "    </tr>\n",
       "    <tr>\n",
       "      <th>Pujaz_Rooms</th>\n",
       "      <td>0.093580</td>\n",
       "      <td>0.352515</td>\n",
       "      <td>0.128557</td>\n",
       "      <td>1.000000</td>\n",
       "      <td>0.351853</td>\n",
       "      <td>0.274709</td>\n",
       "      <td>0.027167</td>\n",
       "      <td>-0.148790</td>\n",
       "      <td>-0.233782</td>\n",
       "      <td>0.343232</td>\n",
       "    </tr>\n",
       "    <tr>\n",
       "      <th>Super_area</th>\n",
       "      <td>0.420161</td>\n",
       "      <td>0.503606</td>\n",
       "      <td>0.271345</td>\n",
       "      <td>0.351853</td>\n",
       "      <td>1.000000</td>\n",
       "      <td>0.690010</td>\n",
       "      <td>0.112810</td>\n",
       "      <td>-0.122027</td>\n",
       "      <td>-0.260054</td>\n",
       "      <td>0.369154</td>\n",
       "    </tr>\n",
       "    <tr>\n",
       "      <th>Carpet_area</th>\n",
       "      <td>0.320535</td>\n",
       "      <td>0.362574</td>\n",
       "      <td>0.226158</td>\n",
       "      <td>0.274709</td>\n",
       "      <td>0.690010</td>\n",
       "      <td>1.000000</td>\n",
       "      <td>0.044402</td>\n",
       "      <td>-0.067040</td>\n",
       "      <td>-0.246422</td>\n",
       "      <td>0.317665</td>\n",
       "    </tr>\n",
       "    <tr>\n",
       "      <th>Furnished_status</th>\n",
       "      <td>0.157263</td>\n",
       "      <td>0.205560</td>\n",
       "      <td>0.307178</td>\n",
       "      <td>0.027167</td>\n",
       "      <td>0.112810</td>\n",
       "      <td>0.044402</td>\n",
       "      <td>1.000000</td>\n",
       "      <td>-0.032381</td>\n",
       "      <td>-0.109653</td>\n",
       "      <td>0.060963</td>\n",
       "    </tr>\n",
       "    <tr>\n",
       "      <th>Facing</th>\n",
       "      <td>-0.062045</td>\n",
       "      <td>-0.117205</td>\n",
       "      <td>-0.090152</td>\n",
       "      <td>-0.148790</td>\n",
       "      <td>-0.122027</td>\n",
       "      <td>-0.067040</td>\n",
       "      <td>-0.032381</td>\n",
       "      <td>1.000000</td>\n",
       "      <td>0.060824</td>\n",
       "      <td>-0.071225</td>\n",
       "    </tr>\n",
       "    <tr>\n",
       "      <th>Address</th>\n",
       "      <td>-0.370872</td>\n",
       "      <td>-0.358502</td>\n",
       "      <td>-0.206992</td>\n",
       "      <td>-0.233782</td>\n",
       "      <td>-0.260054</td>\n",
       "      <td>-0.246422</td>\n",
       "      <td>-0.109653</td>\n",
       "      <td>0.060824</td>\n",
       "      <td>1.000000</td>\n",
       "      <td>-0.182522</td>\n",
       "    </tr>\n",
       "    <tr>\n",
       "      <th>Price</th>\n",
       "      <td>0.147254</td>\n",
       "      <td>0.348298</td>\n",
       "      <td>0.013613</td>\n",
       "      <td>0.343232</td>\n",
       "      <td>0.369154</td>\n",
       "      <td>0.317665</td>\n",
       "      <td>0.060963</td>\n",
       "      <td>-0.071225</td>\n",
       "      <td>-0.182522</td>\n",
       "      <td>1.000000</td>\n",
       "    </tr>\n",
       "  </tbody>\n",
       "</table>\n",
       "</div>"
      ],
      "text/plain": [
       "                  Bedrooms  Bathrooms  Balconies  Pujaz_Rooms  Super_area  \\\n",
       "Bedrooms          1.000000   0.467314   0.268741     0.093580    0.420161   \n",
       "Bathrooms         0.467314   1.000000   0.369637     0.352515    0.503606   \n",
       "Balconies         0.268741   0.369637   1.000000     0.128557    0.271345   \n",
       "Pujaz_Rooms       0.093580   0.352515   0.128557     1.000000    0.351853   \n",
       "Super_area        0.420161   0.503606   0.271345     0.351853    1.000000   \n",
       "Carpet_area       0.320535   0.362574   0.226158     0.274709    0.690010   \n",
       "Furnished_status  0.157263   0.205560   0.307178     0.027167    0.112810   \n",
       "Facing           -0.062045  -0.117205  -0.090152    -0.148790   -0.122027   \n",
       "Address          -0.370872  -0.358502  -0.206992    -0.233782   -0.260054   \n",
       "Price             0.147254   0.348298   0.013613     0.343232    0.369154   \n",
       "\n",
       "                  Carpet_area  Furnished_status    Facing   Address     Price  \n",
       "Bedrooms             0.320535          0.157263 -0.062045 -0.370872  0.147254  \n",
       "Bathrooms            0.362574          0.205560 -0.117205 -0.358502  0.348298  \n",
       "Balconies            0.226158          0.307178 -0.090152 -0.206992  0.013613  \n",
       "Pujaz_Rooms          0.274709          0.027167 -0.148790 -0.233782  0.343232  \n",
       "Super_area           0.690010          0.112810 -0.122027 -0.260054  0.369154  \n",
       "Carpet_area          1.000000          0.044402 -0.067040 -0.246422  0.317665  \n",
       "Furnished_status     0.044402          1.000000 -0.032381 -0.109653  0.060963  \n",
       "Facing              -0.067040         -0.032381  1.000000  0.060824 -0.071225  \n",
       "Address             -0.246422         -0.109653  0.060824  1.000000 -0.182522  \n",
       "Price                0.317665          0.060963 -0.071225 -0.182522  1.000000  "
      ]
     },
     "execution_count": 63,
     "metadata": {},
     "output_type": "execute_result"
    }
   ],
   "source": [
    "df.corr()"
   ]
  },
  {
   "cell_type": "code",
   "execution_count": 64,
   "metadata": {},
   "outputs": [
    {
     "name": "stderr",
     "output_type": "stream",
     "text": [
      "C:\\ProgramData\\Anaconda3\\lib\\site-packages\\scipy\\stats\\stats.py:1713: FutureWarning: Using a non-tuple sequence for multidimensional indexing is deprecated; use `arr[tuple(seq)]` instead of `arr[seq]`. In the future this will be interpreted as an array index, `arr[np.array(seq)]`, which will result either in an error or a different result.\n",
      "  return np.add.reduce(sorted[indexer] * weights, axis=axis) / sumval\n"
     ]
    },
    {
     "data": {
      "text/plain": [
       "<matplotlib.axes._subplots.AxesSubplot at 0x1b8af0d50f0>"
      ]
     },
     "execution_count": 64,
     "metadata": {},
     "output_type": "execute_result"
    },
    {
     "data": {
      "image/png": "[encoded data removed]",
      "text/plain": [
       "<Figure size 432x288 with 1 Axes>"
      ]
     },
     "metadata": {
      "needs_background": "light"
     },
     "output_type": "display_data"
    }
   ],
   "source": [
    "sns.distplot(df['Price'], fit=norm )"
   ]
  },
  {
   "cell_type": "code",
   "execution_count": 70,
   "metadata": {},
   "outputs": [],
   "source": [
    "df['Price'] = np.log1p(df['Price'])"
   ]
  },
  {
   "cell_type": "code",
   "execution_count": 71,
   "metadata": {},
   "outputs": [
    {
     "name": "stderr",
     "output_type": "stream",
     "text": [
      "C:\\ProgramData\\Anaconda3\\lib\\site-packages\\scipy\\stats\\stats.py:1713: FutureWarning: Using a non-tuple sequence for multidimensional indexing is deprecated; use `arr[tuple(seq)]` instead of `arr[seq]`. In the future this will be interpreted as an array index, `arr[np.array(seq)]`, which will result either in an error or a different result.\n",
      "  return np.add.reduce(sorted[indexer] * weights, axis=axis) / sumval\n"
     ]
    },
    {
     "data": {
      "text/plain": [
       "<matplotlib.axes._subplots.AxesSubplot at 0x1b8af28af98>"
      ]
     },
     "execution_count": 71,
     "metadata": {},
     "output_type": "execute_result"
    },
    {
     "data": {
      "image/png": "[encoded data removed]",
      "text/plain": [
       "<Figure size 432x288 with 1 Axes>"
      ]
     },
     "metadata": {
      "needs_background": "light"
     },
     "output_type": "display_data"
    }
   ],
   "source": [
    "sns.distplot(df['Price'], fit=norm )"
   ]
  },
  {
   "cell_type": "code",
   "execution_count": 72,
   "metadata": {},
   "outputs": [],
   "source": [
    "X = df.iloc[:,0:9]\n",
    "y = df.iloc[:,-1]"
   ]
  },
  {
   "cell_type": "code",
   "execution_count": 73,
   "metadata": {},
   "outputs": [],
   "source": [
    "from sklearn.ensemble import RandomForestRegressor\n",
    "clf = RandomForestRegressor(bootstrap=True, criterion='mse', max_depth=None,\n",
    "           max_features='auto', max_leaf_nodes=None,\n",
    "           min_impurity_decrease=0.0, min_impurity_split=None,\n",
    "           min_samples_leaf=1, min_samples_split=2,\n",
    "           min_weight_fraction_leaf=0.0, n_estimators=10, n_jobs=2,\n",
    "           oob_score=False, random_state=3, verbose=0, warm_start=False)"
   ]
  },
  {
   "cell_type": "code",
   "execution_count": 74,
   "metadata": {},
   "outputs": [
    {
     "data": {
      "text/plain": [
       "RandomForestRegressor(bootstrap=True, criterion='mse', max_depth=None,\n",
       "           max_features='auto', max_leaf_nodes=None,\n",
       "           min_impurity_decrease=0.0, min_impurity_split=None,\n",
       "           min_samples_leaf=1, min_samples_split=2,\n",
       "           min_weight_fraction_leaf=0.0, n_estimators=10, n_jobs=2,\n",
       "           oob_score=False, random_state=3, verbose=0, warm_start=False)"
      ]
     },
     "execution_count": 74,
     "metadata": {},
     "output_type": "execute_result"
    }
   ],
   "source": [
    "clf.fit(X,y)"
   ]
  },
  {
   "cell_type": "code",
   "execution_count": 75,
   "metadata": {},
   "outputs": [
    {
     "name": "stdout",
     "output_type": "stream",
     "text": [
      "r2 value                :  0.8920550057132217\n"
     ]
    }
   ],
   "source": [
    "y_pred = clf.predict(X)\n",
    "from sklearn import metrics\n",
    "print('r2 value                : ', metrics.r2_score(y, y_pred))"
   ]
  },
  {
   "cell_type": "code",
   "execution_count": 79,
   "metadata": {},
   "outputs": [],
   "source": [
    "y_pred = clf.predict([[3,2,0,0,873,810,0,1,1]])"
   ]
  },
  {
   "cell_type": "code",
   "execution_count": 80,
   "metadata": {},
   "outputs": [
    {
     "data": {
      "text/plain": [
       "array([56.94550651])"
      ]
     },
     "execution_count": 80,
     "metadata": {},
     "output_type": "execute_result"
    }
   ],
   "source": [
    "np.expm1(y_pred)"
   ]
  },
  {
   "cell_type": "code",
   "execution_count": 81,
   "metadata": {},
   "outputs": [],
   "source": [
    "import pickle\n",
    "pickle.dump(clf, open('House_Vill_model.pkl','wb'))"
   ]
  },
  {
   "cell_type": "code",
   "execution_count": null,
   "metadata": {},
   "outputs": [],
   "source": []
  }
 ],
 "metadata": {
  "kernelspec": {
   "display_name": "Python 3",
   "language": "python",
   "name": "python3"
  },
  "language_info": {
   "codemirror_mode": {
    "name": "ipython",
    "version": 3
   },
   "file_extension": ".py",
   "mimetype": "text/x-python",
   "name": "python",
   "nbconvert_exporter": "python",
   "pygments_lexer": "ipython3",
   "version": "3.7.0"
  }
 },
 "nbformat": 4,
 "nbformat_minor": 2
}
